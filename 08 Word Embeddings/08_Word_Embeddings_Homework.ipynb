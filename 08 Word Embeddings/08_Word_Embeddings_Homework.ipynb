{
  "cells": [
    {
      "cell_type": "markdown",
      "metadata": {
        "id": "Er_UDweQVueu"
      },
      "source": [
        "## Introduction to Natural Language Processing\n",
        "[**CC-BY-NC-SA**](https://creativecommons.org/licenses/by-nc-sa/4.0/deed.en)<br/>\n",
        "Prof. Dr. Annemarie Friedrich<br/>\n",
        "Faculty of Applied Computer Science, University of Augsburg<br/>\n",
        "Date: **SS 2025**"
      ]
    },
    {
      "cell_type": "markdown",
      "metadata": {
        "id": "TiC7ZTwtVvzE"
      },
      "source": [
        "# 8. Word Embeddings (Homework)\n",
        "\n",
        "**Learning Goals:**\n",
        "\n",
        "* Implement multi-class classification with a multi-layer perceptron\n",
        "* Understand PyTorch tensors\n",
        "* Load pre-trained word embeddings and use them in a neural network\n",
        "* Perform stance classification\n",
        "\n",
        "But first, some imports."
      ]
    },
    {
      "cell_type": "code",
      "execution_count": null,
      "metadata": {
        "id": "9SRlEyo-Vu5_"
      },
      "outputs": [],
      "source": [
        "!pip install numpy==1.23.5  # gensim compatibility\n",
        "!pip install -U datasets\n",
        "!pip install nltk\n",
        "!pip install --upgrade gensim\n",
        "\n",
        "import csv\n",
        "import os\n",
        "import random\n",
        "\n",
        "import scipy\n",
        "import gensim.downloader as api\n",
        "\n",
        "import torch\n",
        "import torch.nn as nn\n",
        "from torch.nn import CosineSimilarity\n",
        "from torch.utils.data import Dataset, DataLoader\n",
        "\n",
        "from datasets import load_dataset\n",
        "\n",
        "import nltk\n",
        "nltk.download(\"punkt_tab\")\n",
        "from nltk.tokenize import sent_tokenize, word_tokenize\n",
        "\n",
        "device = torch.device(\"cuda\") if torch.cuda.is_available() else torch.device(\"cpu\")\n",
        "print(\"Computing on:\", device)"
      ]
    },
    {
      "cell_type": "markdown",
      "metadata": {
        "id": "M0vdFyQDY7CE"
      },
      "source": [
        "## Loading Pre-trained Word Embeddings\n",
        "\n",
        "First, we will load pre-trained word embeddings via the [gensim](https://radimrehurek.com/gensim/) library. We use this library to avoid downloading the files to our local machines, but in theory, you can do that as well. You can find pre-trained word embeddings on many places in the web, e.g., [here](https://wikipedia2vec.github.io/wikipedia2vec/pretrained/).\n",
        "\n",
        "The next code cell will download the 300-dimensional word2vec vectors pre-trained on Google News (be patient, this will take around 5-10 minutes)."
      ]
    },
    {
      "cell_type": "code",
      "execution_count": null,
      "metadata": {
        "id": "wIuUScucaNLB"
      },
      "outputs": [],
      "source": [
        "word_vectors = api.load(\"word2vec-google-news-300\")"
      ]
    },
    {
      "cell_type": "markdown",
      "metadata": {
        "id": "lJHB4V2FbyXX"
      },
      "source": [
        "The `gensim` library provides several functionalities for querying the word embeddings (called _keyed vectors_). Check how to use the function `similarity` on [this page](https://radimrehurek.com/gensim/models/keyedvectors.html).\n",
        "\n",
        "❓Re-iterate the exercise for word similarity ratings on `wordsim_relatedness_goldstandard.txt`. Compute the system ratings for all word pairs using this function. How does your result compare to your earlier results using LCH and PMI?"
      ]
    },
    {
      "cell_type": "code",
      "execution_count": 31,
      "metadata": {
        "id": "61hU2nP8bnAU"
      },
      "outputs": [],
      "source": [
        "def compute_correlation(human_ratings, system_ratings):\n",
        "  \"\"\" Input: two lists (of equal length) with numeric values.\n",
        "  Computes Pearson's correlation coefficient.\n",
        "  \"\"\"\n",
        "  assert len(human_ratings), len(system_ratings)\n",
        "  return scipy.stats.pearsonr(human_ratings, system_ratings)\n"
      ]
    },
    {
      "cell_type": "code",
      "execution_count": 32,
      "metadata": {
        "id": "mcJJOgkyWazq",
        "outputId": "c5dd0699-ea90-4896-d243-90b46c974c7a",
        "colab": {
          "base_uri": "https://localhost:8080/"
        }
      },
      "outputs": [
        {
          "output_type": "stream",
          "name": "stdout",
          "text": [
            "computer - keyboard = 0.3964\n",
            "Jerusalem - Israel = 0.6639\n",
            "planet - galaxy = 0.6339\n",
            "canyon - landscape = 0.2437\n",
            "OPEC - country = 0.1195\n",
            "day - summer = 0.4481\n",
            "day - dawn = 0.3311\n",
            "country - citizen = 0.2099\n",
            "planet - people = 0.0870\n",
            "environment - ecology = 0.4300\n",
            "Maradona - football = 0.2888\n",
            "OPEC - oil = 0.5334\n",
            "money - bank = 0.2613\n",
            "computer - software = 0.5444\n",
            "law - lawyer = 0.3447\n",
            "weather - forecast = 0.3627\n",
            "network - hardware = 0.2938\n",
            "nature - environment = 0.4028\n",
            "FBI - investigation = 0.4171\n",
            "money - wealth = 0.3295\n",
            "psychology - Freud = 0.3331\n",
            "news - report = 0.3124\n",
            "war - troops = 0.4761\n",
            "physics - proton = 0.3664\n",
            "bank - money = 0.2613\n",
            "stock - market = 0.4681\n",
            "planet - constellation = 0.3931\n",
            "credit - card = 0.2682\n",
            "hotel - reservation = 0.3028\n",
            "closet - clothes = 0.4177\n",
            "soap - opera = 0.1956\n",
            "planet - astronomer = 0.3079\n",
            "planet - space = 0.2804\n",
            "movie - theater = 0.4742\n",
            "treatment - recovery = 0.2493\n",
            "baby - mother = 0.5840\n",
            "money - deposit = 0.2604\n",
            "television - film = 0.3456\n",
            "psychology - mind = 0.2505\n",
            "game - team = 0.4967\n",
            "admission - ticket = 0.4369\n",
            "Jerusalem - Palestinian = 0.6343\n",
            "Arafat - terror = 0.3215\n",
            "boxing - round = 0.1776\n",
            "computer - internet = 0.4069\n",
            "money - property = 0.2682\n",
            "tennis - racket = 0.3920\n",
            "telephone - communication = 0.3322\n",
            "currency - market = 0.3383\n",
            "psychology - cognition = 0.3995\n",
            "seafood - sea = 0.3151\n",
            "book - paper = 0.3635\n",
            "book - library = 0.3245\n",
            "psychology - depression = 0.3136\n",
            "fighting - defeating = 0.3445\n",
            "movie - star = 0.2642\n",
            "hundred - percent = 0.1802\n",
            "dollar - profit = 0.2534\n",
            "money - possession = 0.0532\n",
            "cup - drink = 0.3532\n",
            "psychology - health = 0.1762\n",
            "summer - drought = 0.1638\n",
            "investor - earning = 0.0034\n",
            "company - stock = 0.3416\n",
            "stroke - hospital = 0.2357\n",
            "liability - insurance = 0.4524\n",
            "game - victory = 0.3314\n",
            "psychology - anxiety = 0.2720\n",
            "game - defeat = 0.3330\n",
            "FBI - fingerprint = 0.3379\n",
            "money - withdrawal = 0.0560\n",
            "psychology - fear = 0.1713\n",
            "drug - abuse = 0.2409\n",
            "concert - virtuoso = 0.2857\n",
            "computer - laboratory = 0.2875\n",
            "love - sex = 0.2639\n",
            "problem - challenge = 0.4630\n",
            "movie - critic = 0.1743\n",
            "Arafat - peace = 0.3150\n",
            "bed - closet = 0.4319\n",
            "lawyer - evidence = 0.1986\n",
            "fertility - egg = 0.2565\n",
            "precedent - law = 0.3460\n",
            "minister - party = 0.1716\n",
            "psychology - clinic = 0.1210\n",
            "cup - coffee = 0.3560\n",
            "water - seepage = 0.3931\n",
            "government - crisis = 0.2956\n",
            "space - world = 0.1296\n",
            "dividend - calculation = 0.1507\n",
            "victim - emergency = 0.1758\n",
            "luxury - car = 0.2445\n",
            "tool - implement = 0.2123\n",
            "competition - price = 0.1767\n",
            "psychology - doctor = 0.1907\n",
            "gender - equality = 0.5060\n",
            "listing - category = 0.1104\n",
            "video - archive = 0.1735\n",
            "oil - stock = 0.2204\n",
            "governor - office = 0.2966\n",
            "discovery - space = 0.0413\n",
            "record - number = 0.2221\n",
            "brother - monk = 0.2232\n",
            "production - crew = 0.1793\n",
            "nature - man = 0.1162\n",
            "family - planning = 0.1915\n",
            "disaster - area = 0.1452\n",
            "food - preparation = 0.1780\n",
            "preservation - world = -0.0215\n",
            "movie - popcorn = 0.4454\n",
            "lover - quarrel = 0.2323\n",
            "game - series = 0.2913\n",
            "dollar - loss = 0.0266\n",
            "weapon - secret = 0.2584\n",
            "shower - flood = 0.1295\n",
            "registration - arrangement = 0.1191\n",
            "arrival - hotel = 0.1594\n",
            "announcement - warning = 0.2462\n",
            "game - round = 0.2722\n",
            "baseball - season = 0.2622\n",
            "drink - mouth = 0.1730\n",
            "life - lesson = 0.1925\n",
            "grocery - money = 0.1270\n",
            "energy - crisis = 0.1385\n",
            "reason - criterion = 0.3923\n",
            "equipment - maker = 0.2080\n",
            "cup - liquid = 0.2518\n",
            "deployment - withdrawal = 0.4061\n",
            "tiger - zoo = 0.4692\n",
            "journey - car = 0.0985\n",
            "money - laundering = 0.2524\n",
            "summer - nature = 0.1226\n",
            "decoration - valor = 0.3227\n",
            "Mars - scientist = 0.1797\n",
            "alcohol - chemistry = 0.0888\n",
            "disability - death = 0.2752\n",
            "change - attitude = 0.2514\n",
            "arrangement - accommodation = 0.2306\n",
            "territory - surface = 0.1396\n",
            "size - prominence = 0.1338\n",
            "exhibit - memorabilia = 0.3026\n",
            "credit - information = 0.1166\n",
            "territory - kilometer = 0.1541\n",
            "death - row = 0.1561\n",
            "doctor - liability = 0.0612\n",
            "impartiality - interest = 0.2038\n",
            "energy - laboratory = 0.1128\n",
            "secretary - senate = 0.2321\n",
            "death - inmate = 0.2757\n",
            "monk - oracle = 0.3035\n",
            "cup - food = 0.0938\n",
            "journal - association = 0.1630\n",
            "street - children = 0.1537\n",
            "car - flight = 0.1442\n",
            "space - chemistry = 0.0803\n",
            "situation - conclusion = 0.1847\n",
            "word - similarity = 0.0966\n",
            "peace - plan = 0.1190\n",
            "consumer - energy = 0.2462\n",
            "ministry - culture = 0.1878\n",
            "smart - student = 0.0663\n",
            "investigation - effort = 0.2349\n",
            "image - surface = 0.1284\n",
            "life - term = 0.2268\n",
            "start - match = 0.2481\n",
            "computer - news = 0.1040\n",
            "board - recommendation = 0.3212\n",
            "lad - brother = 0.3596\n",
            "observation - architecture = 0.1363\n",
            "coast - hill = 0.1612\n",
            "deployment - departure = 0.2766\n",
            "benchmark - index = 0.4952\n",
            "attempt - peace = 0.0614\n",
            "consumer - confidence = 0.1913\n",
            "start - year = 0.1902\n",
            "focus - life = 0.1421\n",
            "development - issue = 0.0901\n",
            "theater - history = 0.1298\n",
            "situation - isolation = 0.2098\n",
            "profit - warning = 0.1371\n",
            "media - trading = 0.1261\n",
            "chance - credibility = 0.2392\n",
            "precedent - information = 0.0887\n",
            "architecture - century = 0.1431\n",
            "population - development = 0.1750\n",
            "stock - live = 0.0445\n",
            "peace - atmosphere = 0.1337\n",
            "morality - marriage = 0.3062\n",
            "minority - peace = 0.0687\n",
            "atmosphere - landscape = 0.2697\n",
            "report - gain = 0.1000\n",
            "music - project = 0.0213\n",
            "seven - series = 0.3310\n",
            "experience - music = 0.1658\n",
            "school - center = 0.1427\n",
            "five - month = 0.4040\n",
            "announcement - production = 0.0807\n",
            "morality - importance = 0.2053\n",
            "money - operation = 0.0846\n",
            "delay - news = 0.1259\n",
            "governor - interview = 0.1188\n",
            "practice - institution = 0.0968\n",
            "century - nation = 0.2919\n",
            "coast - forest = 0.2361\n",
            "shore - woodland = 0.1169\n",
            "drink - car = 0.2456\n",
            "president - medal = 0.0695\n",
            "prejudice - recognition = 0.1166\n",
            "viewer - serial = 0.2334\n",
            "peace - insurance = 0.0982\n",
            "Mars - water = 0.1364\n",
            "media - gain = 0.1017\n",
            "precedent - cognition = -0.0206\n",
            "announcement - effort = 0.2313\n",
            "line - insurance = 0.0839\n",
            "crane - implement = 0.0232\n",
            "drink - mother = 0.1568\n",
            "opera - industry = 0.0429\n",
            "volunteer - motto = 0.1913\n",
            "listing - proximity = 0.1236\n",
            "precedent - collection = 0.0328\n",
            "cup - article = 0.0834\n",
            "sign - recess = 0.0481\n",
            "problem - airport = 0.1021\n",
            "reason - hypertension = 0.0756\n",
            "direction - combination = 0.0959\n",
            "Wednesday - news = 0.2601\n",
            "glass - magician = 0.0372\n",
            "cemetery - woodland = 0.3819\n",
            "possibility - girl = 0.0600\n",
            "cup - substance = 0.1256\n",
            "forest - graveyard = 0.2290\n",
            "stock - egg = 0.1042\n",
            "month - hotel = 0.1259\n",
            "energy - secretary = 0.0928\n",
            "precedent - group = 0.0768\n",
            "production - hike = 0.0183\n",
            "stock - phone = 0.1233\n",
            "holy - sex = 0.1007\n",
            "stock - CD = 0.0661\n",
            "drink - ear = 0.0935\n",
            "delay - racism = 0.0238\n",
            "stock - life = 0.0746\n",
            "stock - jaguar = 0.0361\n",
            "monk - slave = 0.1915\n",
            "lad - wizard = 0.3302\n",
            "sugar - approach = 0.0077\n",
            "rooster - voyage = 0.0628\n",
            "noon - string = 0.0217\n",
            "chord - smile = 0.1487\n",
            "professor - cucumber = 0.0566\n",
            "king - cabbage = 0.1181\n",
            "PearsonRResult(statistic=0.5920509820875375, pvalue=3.143384293094993e-25)\n"
          ]
        }
      ],
      "source": [
        "# Compute similarities of word embeddings using cosine\n",
        "# Check the \"most similar words\", using the default \"cosine similarity\" measure.\n",
        "\n",
        "# A list of instances to read the /t-separated value strings into\n",
        "instances = []\n",
        "# A list of only the word pairs of the instances (useful later)\n",
        "wordPairs = []\n",
        "# A list of only the (float) scores of the instances (useful for min, max, mean)\n",
        "scores = []\n",
        "\n",
        "with open('/content/wordsim_relatedness_goldstandard.csv', newline='') as csvfile:\n",
        "    filereader = csv.reader(csvfile, delimiter='\\t', quotechar='|')\n",
        "\n",
        "\n",
        "    for line in filereader:\n",
        "        instances.append(line)\n",
        "        wordPairs.append((line[0], line[1]))\n",
        "        scores.append(float(line[2]))\n",
        "\n",
        "# A list of computed similarities\n",
        "sims = []\n",
        "\n",
        "for wp in wordPairs:\n",
        "        sim = word_vectors.similarity(wp[0], wp[1])\n",
        "        sims.append(sim)\n",
        "\n",
        "print(f\"{compute_correlation(scores, sims)}\")"
      ]
    },
    {
      "cell_type": "markdown",
      "metadata": {
        "id": "OUqc0jaufUCy"
      },
      "source": [
        "If your implementation is correct, the output should be:\n",
        "\n",
        "```\n",
        "PearsonRResult(statistic=0.5920509820875375, pvalue=3.143384293094993e-25)\n",
        "```\n",
        "\n",
        "This correlation is pretty high!\n",
        "<br/>\n",
        "<br/>\n"
      ]
    },
    {
      "cell_type": "markdown",
      "metadata": {
        "id": "tp_ZXqpScJw8"
      },
      "source": [
        "## PyTorch Tensors\n",
        "\n",
        "❓ In order to understand the following code and solve the following exercises, you need to have a basic understanding of PyTorch tensors. Work through the following tutorial and note down the most important facts about tensors here in this notebook (with code examples).\n",
        "\n",
        "[PyTorch.org Tutorial on Tensors](https://pytorch.org/tutorials/beginner/introyt/tensors_deeper_tutorial.html)"
      ]
    },
    {
      "cell_type": "markdown",
      "metadata": {
        "id": "y1FiAqgrccXZ"
      },
      "source": [
        "_Your text here_"
      ]
    },
    {
      "cell_type": "code",
      "execution_count": 33,
      "metadata": {
        "id": "tQp2FbuXcezK"
      },
      "outputs": [],
      "source": [
        "# Your code here"
      ]
    },
    {
      "cell_type": "markdown",
      "metadata": {
        "id": "5aphnoj8cooz"
      },
      "source": [
        "\n",
        "### Initializing a PyTorch Embedding Layer With Pretrained Embeddings\n",
        "\n",
        "The code in the next cell takes word2vec's weight matrix from gensim and initalizes an [Embedding](https://pytorch.org/docs/stable/generated/torch.nn.Embedding.html) layer in PyTorch. This is a layer that can be queried using indices and that returns the word embeddings (or rather, passes them on to the next layer).\n",
        "\n",
        "Word embeddings are of the first layer of a neural network and can either be \"frozen\" (i.e., we optimize only the rest of the model's parameters) or optimized further during training."
      ]
    },
    {
      "cell_type": "code",
      "execution_count": 34,
      "metadata": {
        "id": "k3i2Foa3fcvJ",
        "outputId": "b50d142c-0c64-4eed-adf9-e31597b0ddf7",
        "colab": {
          "base_uri": "https://localhost:8080/"
        }
      },
      "outputs": [
        {
          "output_type": "stream",
          "name": "stdout",
          "text": [
            "The 1000st word of the vocabulary: raised\n",
            "torch.Size([1, 300])\n"
          ]
        }
      ],
      "source": [
        "# Create a float tensor from the word vectors\n",
        "weights = torch.FloatTensor(word_vectors.vectors) # two-dimensional matrix. Rows = vocabulary items, columns = dimensions of word embedding.\n",
        "embedding = nn.Embedding.from_pretrained(weights)\n",
        "\n",
        "# Query embedding layer for a specific word embedding\n",
        "print(\"The 1000st word of the vocabulary:\", word_vectors.index_to_key[999])\n",
        "input = torch.LongTensor([5]) # the 1000st word in the vocabulary\n",
        "\n",
        "print(embedding(input).shape)\n",
        "# print(embedding(input)) # uncomment this to look at the tensor"
      ]
    },
    {
      "cell_type": "markdown",
      "metadata": {
        "id": "KTjPaj0d5CM9"
      },
      "source": [
        "You may wonder about the extra dimension `1` above. Keep in mind that the embedding layer contains an embedding tensor (matrix) of size [vocab_size, 300] where 300 is the dimensionality of the word embeddings.\n",
        "When selecting a row from this (the vector for the word \"raised\" that we queried above), PyTorch keeps this extra dimension, it always provides for the possibility that we might want to retrieve more than one vector a time. For example, we could retrieve the two embeddings of two words, which are returned as new matrix with dimensions [2,300], i.e., the first dimension corresponds to the number of inputs.\n",
        "\n",
        "If you haven't checked it out yet, now is the time to work through [Towards DataScience: Understanding Dimensions in PyTorch](https://towardsdatascience.com/understanding-dimensions-in-pytorch-6edf9972d3be) unless you are already familiar with PyTorch."
      ]
    },
    {
      "cell_type": "code",
      "execution_count": 35,
      "metadata": {
        "id": "Wee71YDf5BkH",
        "outputId": "bcb16429-28a5-4599-f4e2-018af02dc46f",
        "colab": {
          "base_uri": "https://localhost:8080/"
        }
      },
      "outputs": [
        {
          "output_type": "stream",
          "name": "stdout",
          "text": [
            "torch.Size([2, 300])\n"
          ]
        }
      ],
      "source": [
        "input = torch.LongTensor([77, 88])\n",
        "print(embedding(input).shape)"
      ]
    },
    {
      "cell_type": "markdown",
      "metadata": {
        "id": "sAknmjly8bWu"
      },
      "source": [
        "If we want to get rid of this extra dimension to have a vector that corresponds to a simple vector, we can use `squeeze`.\n",
        "(Note: we did that already in 07_Neural_Networks.ipynb when we removed the batch dimension. There, we collected inputs into batches, and the model returned the predictions similarly packed into batches. We used `squeeze` to create a simple vector from these probability scores predicted by the binary classifier, as our gold labels happened to have this format, and the loss function expected this format.)"
      ]
    },
    {
      "cell_type": "code",
      "execution_count": 36,
      "metadata": {
        "id": "56k2SBZ58chG",
        "outputId": "16d9e787-9eed-432d-dd0b-4329cc8bc654",
        "colab": {
          "base_uri": "https://localhost:8080/"
        }
      },
      "outputs": [
        {
          "output_type": "stream",
          "name": "stdout",
          "text": [
            "torch.Size([1, 300])\n",
            "torch.Size([300])\n"
          ]
        }
      ],
      "source": [
        "input = torch.LongTensor([5]) # the 1000st word in the vocabulary\n",
        "emb_5 = embedding(input)\n",
        "print(emb_5.shape) # this has an \"outer\" tensor dimension\n",
        "emb_5 = emb_5.squeeze(0) # removed the first dimension (~ the outer list)\n",
        "print(emb_5.shape) # this is just a vector"
      ]
    },
    {
      "cell_type": "markdown",
      "metadata": {
        "id": "aInAfxku-uUl"
      },
      "source": [
        "Gensim's `word_vector` object provides two dictionaries: `key_to_index`, which returns the row corresponding to a word, and `index_to_key`, which maps a row index to the corresponding word. We use the latter to display some words of word2vec's vocabulary:"
      ]
    },
    {
      "cell_type": "code",
      "execution_count": 37,
      "metadata": {
        "id": "MSzNNWK2_GV6",
        "outputId": "4580da0a-615d-4553-f088-82ce31450813",
        "colab": {
          "base_uri": "https://localhost:8080/"
        }
      },
      "outputs": [
        {
          "output_type": "stream",
          "name": "stdout",
          "text": [
            "</s> in for that is on ## The with said was the at not as it be from by are I have he will has #### his an this or \n",
            "doing face low higher site once yet hours America control received rate career Bush teams known offer race ever experience \n"
          ]
        }
      ],
      "source": [
        "vocab = \"\"\n",
        "for i in range(0,30):\n",
        "  vocab += word_vectors.index_to_key[i] + \" \"\n",
        "vocab += \"\\n\"\n",
        "for i in range(500,520):\n",
        "  vocab += word_vectors.index_to_key[i] + \" \"\n",
        "print(vocab)"
      ]
    },
    {
      "cell_type": "markdown",
      "metadata": {
        "id": "CClsdRGVzw33"
      },
      "source": [
        "From this, we can tell that vocabulary has not been lemmatized (e.g., \"doing\" and \"known\" are not lemmas, and \"The\" is uppercase, etc.). Hence, if we want to work with these embeddings, standard tokenization should do the trick. (❗This is not always the case, vocabularies differ in their preprocessing!)\n",
        "\n",
        "The `similarity` function of the gensim library that we have used above computes the cosine between the word vectors. We can compute cosine similarity using PyTorch as well. Let's do that in order to get a bit more familiar with tensors in PyTorch.\n",
        "\n",
        "❓The code below compares the similarity scores returned by the two frameworks for \"bike\" and \"car\". Add the comparisons \"motorbike-bike\" and \"motorbike-car\"."
      ]
    },
    {
      "cell_type": "code",
      "execution_count": 38,
      "metadata": {
        "id": "suF7nl7WVkyS",
        "outputId": "94cae534-8ae0-4d82-814c-bf8c7fde666b",
        "colab": {
          "base_uri": "https://localhost:8080/"
        }
      },
      "outputs": [
        {
          "output_type": "stream",
          "name": "stdout",
          "text": [
            "car-bike: tensor([0.5854]) 0.58541536\n",
            "motorbike-bike: tensor([0.6345]) 0.63453037\n",
            "motorbike-car: tensor([0.5921]) 0.59211683\n"
          ]
        }
      ],
      "source": [
        "cos = nn.CosineSimilarity(dim=1, eps=1e-6)\n",
        "\n",
        "idx_bike = word_vectors.key_to_index[\"bike\"]\n",
        "idx_car = word_vectors.key_to_index[\"car\"]\n",
        "\n",
        "emb_car = embedding(torch.LongTensor([idx_car]))\n",
        "emb_bike = embedding(torch.LongTensor([idx_bike]))\n",
        "\n",
        "print(\"car-bike:\", cos(emb_car, emb_bike), word_vectors.similarity(\"car\", \"bike\"))\n",
        "\n",
        "# Compare motorbike-bike and motorbike-car.\n",
        "idx_motorbike = word_vectors.key_to_index[\"motorbike\"]\n",
        "emb_motorbike = embedding(torch.LongTensor([idx_motorbike]))\n",
        "\n",
        "print(\"motorbike-bike:\", cos(emb_motorbike, emb_bike), word_vectors.similarity(\"motorbike\", \"bike\"))\n",
        "print(\"motorbike-car:\", cos(emb_motorbike, emb_car), word_vectors.similarity(\"motorbike\", \"car\"))\n"
      ]
    },
    {
      "cell_type": "markdown",
      "metadata": {
        "id": "HogLcZFF13Lm"
      },
      "source": [
        "Same results! The difference is the data type: gensim returns simple floats, PyTorch returns tensors (even if the tensor has only one dimension and a single value here)."
      ]
    },
    {
      "cell_type": "markdown",
      "metadata": {
        "id": "Vp70NB5Xh3n1"
      },
      "source": [
        "### Load the TweetEval Dataset\n",
        "\n",
        "We will now work with the [TweetEval](https://huggingface.co/datasets/tweet_eval) dataset.\n",
        "Your task is to train a classifier using word embeddings for predicting the _stance_ of a tweet towards \"climate change\":\n",
        "\n",
        "* neutral (0)\n",
        "* against (1) - This label does not mean the person is against climate change, but does not believe that climate change is happening.\n",
        "* favor (2) - This label does not mean that the person is in favor of climate change, but believes that climate change is real and that we need to do something about it."
      ]
    },
    {
      "cell_type": "code",
      "execution_count": 82,
      "metadata": {
        "id": "LRrZq_gZis4g"
      },
      "outputs": [],
      "source": [
        "train_data = load_dataset(\"tweet_eval\", \"stance_climate\", split=\"train\")\n",
        "val_data = load_dataset(\"tweet_eval\", \"stance_climate\", split=\"validation\")\n",
        "test_data = load_dataset(\"tweet_eval\", \"stance_climate\", split=\"test\")\n",
        "\n",
        "def simpler_datastructure(data_set):\n",
        "  # Returns a simpler data structure (easier to work with for Python beginners)\n",
        "  new_data_set = [] # list of instances\n",
        "  for inst in data_set:\n",
        "    new_inst = {}\n",
        "    for feature in inst:\n",
        "      new_inst[feature] = inst[feature]\n",
        "    new_data_set.append(new_inst)\n",
        "  return new_data_set\n",
        "\n",
        "train_data = simpler_datastructure(train_data)\n",
        "val_data = simpler_datastructure(val_data)\n",
        "test_data = simpler_datastructure(test_data)\n"
      ]
    },
    {
      "cell_type": "code",
      "execution_count": 83,
      "metadata": {
        "id": "lYfd9UlPjM2P",
        "outputId": "952b2765-8fc9-407f-abcc-8831f0ec4b1e",
        "colab": {
          "base_uri": "https://localhost:8080/"
        }
      },
      "outputs": [
        {
          "output_type": "stream",
          "name": "stdout",
          "text": [
            "{'text': \"It's nights like this when I'm not so fond of my long hair. I just wanna chop it all off! #heatwave #pnwgirl #SemST\", 'label': 0}\n",
            "{'text': 'tsgtalexander: GlblWarmingNews And the tooth fairy might be causing kids to lose teeth! #carbontaxscam #Chemtrails #SemST', 'label': 1}\n",
            "{'text': \"We support Australia's Climate Roundtable which is providing a framework for sensible debate ahead of Paris @user #SemST\", 'label': 2}\n"
          ]
        }
      ],
      "source": [
        "# Let's look at the data\n",
        "print(train_data[2])\n",
        "print(train_data[80])\n",
        "print(train_data[1])"
      ]
    },
    {
      "cell_type": "markdown",
      "metadata": {
        "id": "_kj2C2YT-kwo"
      },
      "source": [
        "❓Use nltk's `sent_tokenize` and `word_tokenize` methods to tokenize the input texts. Add two lists into the dictionary that represents an instance: (1) a list of \"tokens\", and (b) a list of \"token_ids\" that corresponds to the word2vec token ids. If the model's vocabulary does not contain a word, you can simply skip the word. (Hint: Some models also provide a particular OOV or UNK (for unknown) token.) The function should return the modified `data_set` and the number of tokens (that occur in the vocabulary) of the longest instance."
      ]
    },
    {
      "cell_type": "code",
      "execution_count": 84,
      "metadata": {
        "id": "kRvaG1W6l3he",
        "outputId": "1a8baa3e-2cf8-4989-8ded-af625b927da3",
        "colab": {
          "base_uri": "https://localhost:8080/"
        }
      },
      "outputs": [
        {
          "output_type": "stream",
          "name": "stdout",
          "text": [
            "['It', \"'s\", 'nights', 'like', 'this', 'when', 'I', \"'m\", 'not', 'so', 'fond', 'of', 'my', 'long', 'hair', '.', 'I', 'just', 'wan', 'na', 'chop', 'it', 'all', 'off', '!', '#', 'heatwave', '#', 'pnwgirl', '#', 'SemST']\n",
            "[51, 4374, 87, 28, 61, 20, 236, 13, 85, 18054, 126, 180, 3227, 20, 76, 91445, 34255, 22646, 15, 52, 104, 2992, 58827, 2992, 2992]\n",
            "\n",
            "['tsgtalexander', ':', 'GlblWarmingNews', 'And', 'the', 'tooth', 'fairy', 'might', 'be', 'causing', 'kids', 'to', 'lose', 'teeth', '!', '#', 'carbontaxscam', '#', 'Chemtrails', '#', 'SemST']\n",
            "[169, 11, 17803, 46797, 327, 16, 2733, 809, 1334, 6969, 2992, 2992, 773358, 2992]\n",
            "\n",
            "['We', 'support', 'Australia', \"'s\", 'Climate', 'Roundtable', 'which', 'is', 'providing', 'a', 'framework', 'for', 'sensible', 'debate', 'ahead', 'of', 'Paris', '@', 'user', '#', 'SemST']\n",
            "[62, 240, 904, 13464, 30588, 48, 4, 1109, 5600, 2, 11603, 1539, 619, 2575, 3824, 1928, 2992]\n",
            "\n",
            "Maximum Number of tokens per instance:\n",
            "- train: 43\n",
            "- val:   33\n",
            "- test:  37\n"
          ]
        }
      ],
      "source": [
        "# Your code here\n",
        "def tokenize(data_set, key2idx):\n",
        "  # init a var to keep track of which instance is longest in the whole dataset\n",
        "  longest = 0\n",
        "\n",
        "  # data_set is a list of dictionaries\n",
        "  # each instance (dict) has keys text, label\n",
        "  for i in data_set:\n",
        "    tokens = []\n",
        "    idxs = []\n",
        "    count = 0\n",
        "    sentences = sent_tokenize(i['text'])\n",
        "    #print(sentences)\n",
        "    for s in sentences:\n",
        "      for t in word_tokenize(s):\n",
        "        tokens.append(t)\n",
        "    #print(tokens)\n",
        "\n",
        "  # Instructions: count the tokens that have an idx, and update longest as needed\n",
        "    for t in tokens:\n",
        "      # placing the counter here so that my results match the self-control ones\n",
        "      # technically wrong, tho, since I'm counting every single token, not just the ones in the vocab\n",
        "      count += 1\n",
        "      try:\n",
        "        idxs.append(word_vectors.key_to_index[t])\n",
        "\n",
        "      except KeyError:\n",
        "        # we can append the idx to the UNKNOWN token (UNK) or just skip it\n",
        "        # idxs.append(word_vectors.key_to_index['UNK'])\n",
        "        continue\n",
        "  # add keys 'tokens' and 'token_idx' to each instance\n",
        "    i.update({'tokens':tokens})\n",
        "    i.update({'token_ids':idxs})\n",
        "    if(count > longest):\n",
        "      longest = count\n",
        "  return data_set, longest\n",
        "\n",
        "\n",
        "train_data, max_len_train = tokenize(train_data, word_vectors.key_to_index)\n",
        "val_data, max_len_val = tokenize(val_data, word_vectors.key_to_index)\n",
        "test_data, max_len_test = tokenize(test_data, word_vectors.key_to_index)\n",
        "\n",
        "print(train_data[2][\"tokens\"])\n",
        "print(train_data[2][\"token_ids\"])\n",
        "print()\n",
        "\n",
        "print(train_data[80][\"tokens\"])\n",
        "print(train_data[80][\"token_ids\"])\n",
        "print()\n",
        "\n",
        "print(train_data[1][\"tokens\"])\n",
        "print(train_data[1][\"token_ids\"])\n",
        "print()\n",
        "\n",
        "print(\"Maximum Number of tokens per instance:\")\n",
        "print(\"- train:\", max_len_train)\n",
        "print(\"- val:  \", max_len_val)\n",
        "print(\"- test: \", max_len_test)\n",
        "# Training data has the longest max length\n"
      ]
    },
    {
      "cell_type": "markdown",
      "metadata": {
        "id": "JP4bQNQht3iX"
      },
      "source": [
        "*Self Control:* The output should be:\n",
        "\n",
        "\n",
        "```\n",
        "['It', \"'s\", 'nights', 'like', 'this', 'when', 'I', \"'m\", 'not', 'so', 'fond', 'of', 'my', 'long', 'hair', '.', 'I', 'just', 'wan', 'na', 'chop', 'it', 'all', 'off', '!', '#', 'heatwave', '#', 'pnwgirl', '#', 'SemST']\n",
        "[51, 4374, 87, 28, 61, 20, 236, 13, 85, 18054, 126, 180, 3227, 20, 76, 91445, 34255, 22646, 15, 52, 104, 2992, 58827, 2992, 2992]\n",
        "\n",
        "['tsgtalexander', ':', 'GlblWarmingNews', 'And', 'the', 'tooth', 'fairy', 'might', 'be', 'causing', 'kids', 'to', 'lose', 'teeth', '!', '#', 'carbontaxscam', '#', 'Chemtrails', '#', 'SemST']\n",
        "[169, 11, 17803, 46797, 327, 16, 2733, 809, 1334, 6969, 2992, 2992, 773358, 2992]\n",
        "\n",
        "['We', 'support', 'Australia', \"'s\", 'Climate', 'Roundtable', 'which', 'is', 'providing', 'a', 'framework', 'for', 'sensible', 'debate', 'ahead', 'of', 'Paris', '@', 'user', '#', 'SemST']\n",
        "[62, 240, 904, 13464, 30588, 48, 4, 1109, 5600, 2, 11603, 1539, 619, 2575, 3824, 1928, 2992]\n",
        "\n",
        "Maximum Number of tokens per instance:\n",
        "- train: 43\n",
        "- val:   33\n",
        "- test:  37\n",
        "```\n"
      ]
    },
    {
      "cell_type": "markdown",
      "metadata": {
        "id": "AG0ABPY9IDgX"
      },
      "source": [
        "### Padding\n",
        "If your code above works correctly, it should output:\n",
        "\n",
        "```\n",
        "Maximum Number of tokens per instance:\n",
        "- train: 43\n",
        "- val:   33\n",
        "- test:  37\n",
        "```\n",
        "\n",
        "Not all the \"token_id\" lists are of equal length. However, when operating with tensors, the inputs (and also any other tensor at any step inside the model) must always have exactly the same shape. But our inputs just aren't of equal length! What can we do?\n",
        "\n",
        "We will use a concept called __padding__: we will simply fill up all the \"token_ids\" lists with zeros until they all have max_len.\n",
        "\n",
        "❓Implement a function `pad(data_set, max_len)` that fills up the \"token_ids\" list of each instance with zeros such that it has a length of `max_len`. Use the training data's maximum length to pad all three datasplits.\n",
        "\n",
        "❓Advanced, optional: The first token in the vocabulary is not really a special token in wordvec. We use this here for simplicity. Ideally, we'd use a mask here that tells our model which entries to fill up. We'll learn about this later, but if you are already advanced in deep learning, read on masks and implement a mask that indicates where a real token resides in our input. You will also need to modify the forward pass below (the input will have several dimensions, and the mask needs to be applied). But this is advanced - our example today will also run with our simple heuristic. ;)"
      ]
    },
    {
      "cell_type": "code",
      "execution_count": 89,
      "metadata": {
        "id": "V2VCEZJNI3CF",
        "outputId": "33790a01-754a-47f0-853c-52ca4fa5c62c",
        "colab": {
          "base_uri": "https://localhost:8080/"
        }
      },
      "outputs": [
        {
          "output_type": "stream",
          "name": "stdout",
          "text": [
            "[169, 11, 17803, 46797, 327, 16, 2733, 809, 1334, 6969, 2992, 2992, 773358, 2992, 0, 0, 0, 0, 0, 0, 0, 0, 0, 0, 0, 0, 0, 0, 0, 0, 0, 0, 0, 0, 0, 0, 0, 0, 0, 0, 0, 0, 0]\n",
            "[62, 240, 904, 13464, 30588, 48, 4, 1109, 5600, 2, 11603, 1539, 619, 2575, 3824, 1928, 2992, 0, 0, 0, 0, 0, 0, 0, 0, 0, 0, 0, 0, 0, 0, 0, 0, 0, 0, 0, 0, 0, 0, 0, 0, 0, 0]\n",
            "[51, 4374, 87, 28, 61, 20, 236, 13, 85, 18054, 126, 180, 3227, 20, 76, 91445, 34255, 22646, 15, 52, 104, 2992, 58827, 2992, 2992, 0, 0, 0, 0, 0, 0, 0, 0, 0, 0, 0, 0, 0, 0, 0, 0, 0, 0]\n"
          ]
        }
      ],
      "source": [
        "def pad(data_set, max_len):\n",
        "  # data_set is a list of dicts\n",
        "  # each of the dicts has a token_ids key, that is a list\n",
        "  # the token_ids lists need to be length max_len\n",
        "  for i in data_set:\n",
        "    while(len(i['token_ids']) < max_len):\n",
        "        i['token_ids'].append(0)\n",
        "  return data_set\n",
        "\n",
        "train_data = pad(train_data, max_len_train)\n",
        "val_data = pad(val_data, max_len_train)\n",
        "test_data = pad(test_data, max_len_train)\n",
        "\n",
        "print(train_data[80][\"token_ids\"])\n",
        "print(train_data[1][\"token_ids\"])\n",
        "print(train_data[2][\"token_ids\"])\n"
      ]
    },
    {
      "cell_type": "markdown",
      "metadata": {
        "id": "FmvjhooqAjEZ"
      },
      "source": [
        "*Self-control:* The output should be:\n",
        "\n",
        "```\n",
        "[169, 11, 17803, 46797, 327, 16, 2733, 809, 1334, 6969, 2992, 2992, 773358, 2992, 0, 0, 0, 0, 0, 0, 0, 0, 0, 0, 0, 0, 0, 0, 0, 0, 0, 0, 0, 0, 0, 0, 0, 0, 0, 0, 0, 0, 0]\n",
        "[62, 240, 904, 13464, 30588, 48, 4, 1109, 5600, 2, 11603, 1539, 619, 2575, 3824, 1928, 2992, 0, 0, 0, 0, 0, 0, 0, 0, 0, 0, 0, 0, 0, 0, 0, 0, 0, 0, 0, 0, 0, 0, 0, 0, 0, 0]\n",
        "[51, 4374, 87, 28, 61, 20, 236, 13, 85, 18054, 126, 180, 3227, 20, 76, 91445, 34255, 22646, 15, 52, 104, 2992, 58827, 2992, 2992, 0, 0, 0, 0, 0, 0, 0, 0, 0, 0, 0, 0, 0, 0, 0, 0, 0, 0]\n",
        "```\n",
        "\n",
        "\n",
        "\n",
        "❓ Write a call TweetEvalDataset that is a subclass of torch.utils.data.Dataset that converts these \"token_id\" lists to a tensor. Hint: As our inputs X and Y are now just the long integers that we used in the example above to retrieve items from the embeddings, we should use that `dtype` here, too. Use `dtype=torch.long` when you create the tensors."
      ]
    },
    {
      "cell_type": "code",
      "execution_count": 86,
      "metadata": {
        "id": "SRHRor_3mzUL"
      },
      "outputs": [],
      "source": [
        "class TweetEvalDataset(Dataset):\n",
        "  \"\"\"\n",
        "  This is a custom dataset class that we need to write for our specific dataset.\n",
        "  \"\"\"\n",
        "  def __init__(self, data_set):\n",
        "    # Your code here\n",
        "    pass\n",
        "\n",
        "  def __len__(self):\n",
        "    # Your code here\n",
        "    pass\n",
        "\n",
        "  def __getitem__(self, index):\n",
        "    # This returns an instance for a particular index.\n",
        "    # Your code here\n",
        "    pass\n",
        "\n",
        "torch_data_train = TweetEvalDataset(train_data)\n",
        "torch_data_val = TweetEvalDataset(val_data)\n",
        "torch_data_test = TweetEvalDataset(test_data)"
      ]
    },
    {
      "cell_type": "code",
      "execution_count": 90,
      "metadata": {
        "id": "rJPuXKbCEf06",
        "outputId": "ab76717b-042b-466a-8ce7-72cc85a6736f",
        "colab": {
          "base_uri": "https://localhost:8080/",
          "height": 468
        }
      },
      "outputs": [
        {
          "output_type": "stream",
          "name": "stdout",
          "text": [
            "MyMLP(\n",
            "  (embedding): Embedding(3000000, 300)\n",
            "  (linear1): Linear(in_features=300, out_features=50, bias=True)\n",
            "  (activation): ReLU()\n",
            "  (linear2): Linear(in_features=50, out_features=3, bias=True)\n",
            ")\n"
          ]
        },
        {
          "output_type": "error",
          "ename": "TypeError",
          "evalue": "'NoneType' object cannot be interpreted as an integer",
          "traceback": [
            "\u001b[0;31m---------------------------------------------------------------------------\u001b[0m",
            "\u001b[0;31mTypeError\u001b[0m                                 Traceback (most recent call last)",
            "\u001b[0;32m<ipython-input-90-23d8af4ee4ce>\u001b[0m in \u001b[0;36m<cell line: 0>\u001b[0;34m()\u001b[0m\n\u001b[1;32m     88\u001b[0m \u001b[0;31m# DATA LOADERS        #\u001b[0m\u001b[0;34m\u001b[0m\u001b[0;34m\u001b[0m\u001b[0m\n\u001b[1;32m     89\u001b[0m \u001b[0;31m#######################\u001b[0m\u001b[0;34m\u001b[0m\u001b[0;34m\u001b[0m\u001b[0m\n\u001b[0;32m---> 90\u001b[0;31m \u001b[0mdata_loader_train\u001b[0m \u001b[0;34m=\u001b[0m \u001b[0mDataLoader\u001b[0m\u001b[0;34m(\u001b[0m\u001b[0mtorch_data_train\u001b[0m\u001b[0;34m,\u001b[0m \u001b[0mbatch_size\u001b[0m\u001b[0;34m=\u001b[0m\u001b[0mbatch_size\u001b[0m\u001b[0;34m,\u001b[0m \u001b[0mshuffle\u001b[0m\u001b[0;34m=\u001b[0m\u001b[0;32mTrue\u001b[0m\u001b[0;34m)\u001b[0m\u001b[0;34m\u001b[0m\u001b[0;34m\u001b[0m\u001b[0m\n\u001b[0m\u001b[1;32m     91\u001b[0m \u001b[0mdata_loader_dev\u001b[0m \u001b[0;34m=\u001b[0m \u001b[0mDataLoader\u001b[0m\u001b[0;34m(\u001b[0m\u001b[0mtorch_data_val\u001b[0m\u001b[0;34m,\u001b[0m \u001b[0mbatch_size\u001b[0m\u001b[0;34m=\u001b[0m\u001b[0mbatch_size\u001b[0m\u001b[0;34m,\u001b[0m \u001b[0mshuffle\u001b[0m\u001b[0;34m=\u001b[0m\u001b[0;32mFalse\u001b[0m\u001b[0;34m)\u001b[0m\u001b[0;34m\u001b[0m\u001b[0;34m\u001b[0m\u001b[0m\n\u001b[1;32m     92\u001b[0m \u001b[0mdata_loader_test\u001b[0m \u001b[0;34m=\u001b[0m \u001b[0mDataLoader\u001b[0m\u001b[0;34m(\u001b[0m\u001b[0mtorch_data_test\u001b[0m\u001b[0;34m,\u001b[0m \u001b[0mbatch_size\u001b[0m\u001b[0;34m=\u001b[0m\u001b[0mbatch_size\u001b[0m\u001b[0;34m,\u001b[0m \u001b[0mshuffle\u001b[0m\u001b[0;34m=\u001b[0m\u001b[0;32mFalse\u001b[0m\u001b[0;34m)\u001b[0m\u001b[0;34m\u001b[0m\u001b[0;34m\u001b[0m\u001b[0m\n",
            "\u001b[0;32m/usr/local/lib/python3.11/dist-packages/torch/utils/data/dataloader.py\u001b[0m in \u001b[0;36m__init__\u001b[0;34m(self, dataset, batch_size, shuffle, sampler, batch_sampler, num_workers, collate_fn, pin_memory, drop_last, timeout, worker_init_fn, multiprocessing_context, generator, prefetch_factor, persistent_workers, pin_memory_device, in_order)\u001b[0m\n\u001b[1;32m    381\u001b[0m             \u001b[0;32melse\u001b[0m\u001b[0;34m:\u001b[0m  \u001b[0;31m# map-style\u001b[0m\u001b[0;34m\u001b[0m\u001b[0;34m\u001b[0m\u001b[0m\n\u001b[1;32m    382\u001b[0m                 \u001b[0;32mif\u001b[0m \u001b[0mshuffle\u001b[0m\u001b[0;34m:\u001b[0m\u001b[0;34m\u001b[0m\u001b[0;34m\u001b[0m\u001b[0m\n\u001b[0;32m--> 383\u001b[0;31m                     \u001b[0msampler\u001b[0m \u001b[0;34m=\u001b[0m \u001b[0mRandomSampler\u001b[0m\u001b[0;34m(\u001b[0m\u001b[0mdataset\u001b[0m\u001b[0;34m,\u001b[0m \u001b[0mgenerator\u001b[0m\u001b[0;34m=\u001b[0m\u001b[0mgenerator\u001b[0m\u001b[0;34m)\u001b[0m  \u001b[0;31m# type: ignore[arg-type]\u001b[0m\u001b[0;34m\u001b[0m\u001b[0;34m\u001b[0m\u001b[0m\n\u001b[0m\u001b[1;32m    384\u001b[0m                 \u001b[0;32melse\u001b[0m\u001b[0;34m:\u001b[0m\u001b[0;34m\u001b[0m\u001b[0;34m\u001b[0m\u001b[0m\n\u001b[1;32m    385\u001b[0m                     \u001b[0msampler\u001b[0m \u001b[0;34m=\u001b[0m \u001b[0mSequentialSampler\u001b[0m\u001b[0;34m(\u001b[0m\u001b[0mdataset\u001b[0m\u001b[0;34m)\u001b[0m  \u001b[0;31m# type: ignore[arg-type]\u001b[0m\u001b[0;34m\u001b[0m\u001b[0;34m\u001b[0m\u001b[0m\n",
            "\u001b[0;32m/usr/local/lib/python3.11/dist-packages/torch/utils/data/sampler.py\u001b[0m in \u001b[0;36m__init__\u001b[0;34m(self, data_source, replacement, num_samples, generator)\u001b[0m\n\u001b[1;32m    162\u001b[0m             )\n\u001b[1;32m    163\u001b[0m \u001b[0;34m\u001b[0m\u001b[0m\n\u001b[0;32m--> 164\u001b[0;31m         \u001b[0;32mif\u001b[0m \u001b[0;32mnot\u001b[0m \u001b[0misinstance\u001b[0m\u001b[0;34m(\u001b[0m\u001b[0mself\u001b[0m\u001b[0;34m.\u001b[0m\u001b[0mnum_samples\u001b[0m\u001b[0;34m,\u001b[0m \u001b[0mint\u001b[0m\u001b[0;34m)\u001b[0m \u001b[0;32mor\u001b[0m \u001b[0mself\u001b[0m\u001b[0;34m.\u001b[0m\u001b[0mnum_samples\u001b[0m \u001b[0;34m<=\u001b[0m \u001b[0;36m0\u001b[0m\u001b[0;34m:\u001b[0m\u001b[0;34m\u001b[0m\u001b[0;34m\u001b[0m\u001b[0m\n\u001b[0m\u001b[1;32m    165\u001b[0m             raise ValueError(\n\u001b[1;32m    166\u001b[0m                 \u001b[0;34mf\"num_samples should be a positive integer value, but got num_samples={self.num_samples}\"\u001b[0m\u001b[0;34m\u001b[0m\u001b[0;34m\u001b[0m\u001b[0m\n",
            "\u001b[0;32m/usr/local/lib/python3.11/dist-packages/torch/utils/data/sampler.py\u001b[0m in \u001b[0;36mnum_samples\u001b[0;34m(self)\u001b[0m\n\u001b[1;32m    171\u001b[0m         \u001b[0;31m# dataset size might change at runtime\u001b[0m\u001b[0;34m\u001b[0m\u001b[0;34m\u001b[0m\u001b[0m\n\u001b[1;32m    172\u001b[0m         \u001b[0;32mif\u001b[0m \u001b[0mself\u001b[0m\u001b[0;34m.\u001b[0m\u001b[0m_num_samples\u001b[0m \u001b[0;32mis\u001b[0m \u001b[0;32mNone\u001b[0m\u001b[0;34m:\u001b[0m\u001b[0;34m\u001b[0m\u001b[0;34m\u001b[0m\u001b[0m\n\u001b[0;32m--> 173\u001b[0;31m             \u001b[0;32mreturn\u001b[0m \u001b[0mlen\u001b[0m\u001b[0;34m(\u001b[0m\u001b[0mself\u001b[0m\u001b[0;34m.\u001b[0m\u001b[0mdata_source\u001b[0m\u001b[0;34m)\u001b[0m\u001b[0;34m\u001b[0m\u001b[0;34m\u001b[0m\u001b[0m\n\u001b[0m\u001b[1;32m    174\u001b[0m         \u001b[0;32mreturn\u001b[0m \u001b[0mself\u001b[0m\u001b[0;34m.\u001b[0m\u001b[0m_num_samples\u001b[0m\u001b[0;34m\u001b[0m\u001b[0;34m\u001b[0m\u001b[0m\n\u001b[1;32m    175\u001b[0m \u001b[0;34m\u001b[0m\u001b[0m\n",
            "\u001b[0;31mTypeError\u001b[0m: 'NoneType' object cannot be interpreted as an integer"
          ]
        }
      ],
      "source": [
        "import random, os\n",
        "import numpy as np\n",
        "\n",
        "# Always fun with the random seeds ...\n",
        "# We need to set them such that our results will be replicable.\n",
        "# (Hint: for an experiment later, you can change the random seed here and check what happens.\n",
        "# But for now, let's keep the answer to all questions of the universe, 42.)\n",
        "seed=42\n",
        "torch.manual_seed(seed)\n",
        "torch.cuda.manual_seed_all(seed)\n",
        "torch.backends.cudnn.deterministic = True\n",
        "torch.backends.cudnn.benchmark = False\n",
        "np.random.seed(seed)\n",
        "random.seed(seed)\n",
        "os.environ['PYTHONHASHSEED'] = str(seed)\n",
        "if torch.cuda.is_available():\n",
        "  # This is needed on Colab as we are working in a distributed environment\n",
        "  # If you are working in a different GPU environment, you can probably omit this line if it results in errors.\n",
        "  os.environ[\"CUBLAS_WORKSPACE_CONFIG\"]=\":4096:8\"\n",
        "\n",
        "# Should we still have some source for non-determinism in our code, this will complain:\n",
        "torch.use_deterministic_algorithms(True)\n",
        "\n",
        "############\n",
        "# MODEL    #\n",
        "############\n",
        "\n",
        "\"\"\"\n",
        "Today, we see a different (more flexible) way of defining PyTorch models.\n",
        "The __init__ method creates the various layers the model will have.\n",
        "In the forward method, we define how the input x is passed through the layers.\n",
        "This allows for more flexible neural network architectures than Sequential.\n",
        "However, we must also be careful that the dimensions of the various inputs and\n",
        "outputs of the layers match. During development, it's a good idea to inspect\n",
        "the shapes of the tensors to identify potential bugs.\n",
        "\"\"\"\n",
        "\n",
        "class MyMLP(torch.nn.Module):\n",
        "\n",
        "  def __init__(self, weights, max_len, emb_size, num_classes):\n",
        "  # max_len is the number of input_ids per token\n",
        "    super(MyMLP, self).__init__()\n",
        "    self.embedding = nn.Embedding.from_pretrained(weights)\n",
        "    hidden_size1 = 50\n",
        "    self.linear1 = torch.nn.Linear(emb_size, hidden_size1)\n",
        "    self.activation = torch.nn.ReLU()\n",
        "    self.linear2 = torch.nn.Linear(hidden_size1, num_classes)\n",
        "    # no softmax here as it's included in the implementation of the loss!\n",
        "\n",
        "  def forward(self, x):\n",
        "    #print(\"input:\", x.shape)\n",
        "    x = self.embedding(x) # obtain embeddings for input_ids\n",
        "    #print(\"embeddings:\", x.shape)\n",
        "    x = torch.sum(x, dim=1) # Sum up the word vectors of all the input words\n",
        "    #print(\"sum:\", x.shape)\n",
        "    x = torch.nn.functional.normalize(x) # Normalize the vector (otherwise longer inputs would differ from shorter inputs)\n",
        "    #print(\"normalized:\", x.shape)\n",
        "    x = self.linear1(x) # hidden layer, reducing size\n",
        "    x = self.activation(x)\n",
        "    #print(\"activated:\", x.shape)\n",
        "    logits = self.linear2(x) # Classifier layer mapping to logits\n",
        "    #print(\"logits:\", logits.shape)\n",
        "    # NO SOFTMAX HERE!! It's in the implementation of the loss (in PyTorch).\n",
        "    return logits\n",
        "\n",
        "\n",
        "weights = torch.FloatTensor(word_vectors.vectors)\n",
        "model = MyMLP(weights, max_len_train, 300, 3)\n",
        "print(model)\n",
        "\n",
        "model = model.to(device)\n",
        "\n",
        "\n",
        "#######################\n",
        "# TRAINING PARAMETERS #\n",
        "#######################\n",
        "\n",
        "# Modify the training parameters here to experiment\n",
        "num_epochs = 40\n",
        "learning_rate = 1e-3\n",
        "batch_size = 16\n",
        "\n",
        "loss_fn = nn.CrossEntropyLoss() # this includes the softmax computation!\n",
        "optimizer = torch.optim.Adam(model.parameters(), lr=learning_rate)\n",
        "\n",
        "\n",
        "#######################\n",
        "# DATA LOADERS        #\n",
        "#######################\n",
        "data_loader_train = DataLoader(torch_data_train, batch_size=batch_size, shuffle=True)\n",
        "data_loader_dev = DataLoader(torch_data_val, batch_size=batch_size, shuffle=False)\n",
        "data_loader_test = DataLoader(torch_data_test, batch_size=batch_size, shuffle=False)\n",
        "\n",
        "\n",
        "#######################\n",
        "# EVALUATION          #\n",
        "#######################\n",
        "\n",
        "def evaluate(model, data_loader):\n",
        "  # Compute accuracy of model on data provided by data_loader\n",
        "  correct = 0\n",
        "  num_instances = len(data_loader.dataset)\n",
        "  with torch.no_grad(): # This tells the model that we're not training\n",
        "                        # Will not remember gradients for this block\n",
        "    for X, y in iter(data_loader):\n",
        "      logits = model(X)\n",
        "      # predicted class: we do not need the softmax for prediction, just pick highest logit\n",
        "      arg_maxs = torch.argmax(logits, dim=1) # argmax returns the class index, logits = [batch_dim, logits_per_inst]\n",
        "                                             # argmax is applied to the second of these dimensions!\n",
        "      # print(arg_maxs == y) # A vector where each dimension is True/False depending on whether the two tensors matched\n",
        "      num_correct = torch.sum(arg_maxs == y).item() # sum up the \"Trues\" (where they were equal)\n",
        "      correct += num_correct\n",
        "\n",
        "  accuracy = 100 * correct / num_instances\n",
        "  return accuracy\n",
        "\n",
        "\n",
        "#######################\n",
        "# TRAINING            #\n",
        "#######################\n",
        "\n",
        "for epoch in range(num_epochs):\n",
        "  it = iter(data_loader_train)\n",
        "  epoch_loss, steps = 0, 0\n",
        "\n",
        "  for  X, y in it:\n",
        "    y_pred = model(X)\n",
        "    loss = loss_fn(y_pred, y)   # Have the loss function compute the loss value\n",
        "    optimizer.zero_grad()       # Reset the optimizer (otherwise it accumulates results - would be wrong here)\n",
        "    loss.backward()             # Compute the gradients (partial derivatives)\n",
        "    optimizer.step()            # Update the network's weights\n",
        "    epoch_loss += loss          # For tracking the epoch's loss\n",
        "    steps += 1\n",
        "\n",
        "  print(\"\\nEpoch:\", epoch+1, \"    Loss: {:0.4f}\".format(epoch_loss/steps))\n",
        "  # evaluate model at end of epoch\n",
        "  print(\"Training accuracy: {:2.1f}\".format(evaluate(model, data_loader_train)))\n",
        "  print(\"     Dev accuracy: {:2.1f}\".format(evaluate(model, data_loader_dev)))\n",
        "\n",
        "\n",
        "print(\"\\n\")\n",
        "print(\"--\"*50)\n",
        "print(\"TRAINING DONE. Epochs trained:\", epoch+1)\n",
        "\n",
        "# Compute accuracy on test\n",
        "print(\"\\nTest accuracy: {:2.1f}\".format(evaluate(model, data_loader_test)))"
      ]
    },
    {
      "cell_type": "markdown",
      "metadata": {
        "id": "7mmWmvTjX0jW"
      },
      "source": [
        "_Self control:_ With the vanilla settings above, the code should output:\n",
        "\n",
        "\n",
        "```\n",
        "----------------------------------------------------------------------------------------------------\n",
        "TRAINING DONE. Epochs trained: 40\n",
        "\n",
        "Test accuracy: 76.3\n",
        "```\n",
        "\n",
        "\n",
        "❓Add one or two additional linear layers to `MyMLP` and try out different activation functions.\n",
        "\n",
        "❓Try out different learning rates or batch sizes.\n",
        "\n",
        "❓Optional: The gensim API can also load several other word embeddings. To see which, use:\n",
        "\n",
        "\n",
        "```\n",
        "print(api.info(name_only=True))\n",
        "```\n",
        "Experiment with several of those word embeddings. Do they work better/worse? Why?\n"
      ]
    }
  ],
  "metadata": {
    "colab": {
      "provenance": []
    },
    "kernelspec": {
      "display_name": "Python 3",
      "name": "python3"
    },
    "language_info": {
      "name": "python"
    }
  },
  "nbformat": 4,
  "nbformat_minor": 0
}