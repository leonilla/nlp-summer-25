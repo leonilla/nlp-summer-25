{
  "cells": [
    {
      "cell_type": "markdown",
      "metadata": {
        "id": "5rCoP8rcyOLT"
      },
      "source": [
        "**Introduction to Natural Language Processing**<br/>\n",
        "[**CC-BY-NC-SA**](https://creativecommons.org/licenses/by-nc-sa/4.0/deed.en)<br/>\n",
        "Prof. Dr. Annemarie Friedrich<br/>\n",
        "Faculty of Applied Computer Science, University of Augsburg<br/>\n",
        "Date: **SS 2025**"
      ]
    },
    {
      "cell_type": "markdown",
      "metadata": {
        "id": "kp1NBbf8yQiU"
      },
      "source": [
        "# Representing Text - Traditional Features\n",
        "\n",
        "*Step 1*: Use this notebook to compute the feature values, i.e., the feature vectors, of the three sentences given on the accompanying exercise slide. Here's some code that will help you do that."
      ]
    },
    {
      "cell_type": "code",
      "execution_count": null,
      "metadata": {
        "id": "5OgNiNhjyJXG"
      },
      "outputs": [],
      "source": [
        "# Imports\n",
        "import spacy\n",
        "from spacy import displacy\n",
        "import numpy as np\n",
        "\n",
        "# Load the model that we will use for predictions\n",
        "nlp = spacy.load(\"en_core_web_sm\")"
      ]
    },
    {
      "cell_type": "code",
      "execution_count": null,
      "metadata": {
        "id": "KgFX1nnrzCye"
      },
      "outputs": [],
      "source": [
        "input_sentence = \"My duck ate a fly.\"\n",
        "# input_sentence = \"He duck and closed his fly.\"\n",
        "# input_sentence = \"There was a duck on my fly.\"\n",
        "\n",
        "# Process sentence\n",
        "doc = nlp(input_sentence)\n",
        "# Visualize results.\n",
        "displacy.render(doc, style='dep', jupyter=True, options={'distance': 90})"
      ]
    },
    {
      "cell_type": "markdown",
      "metadata": {
        "id": "vuO2zzHTzOKG"
      },
      "source": [
        "*Step 2*: Write down the feature vectors as numpy vectors.\n",
        "For example:\n",
        "\n",
        "```v = np.array([0, 1, 0, 1, 0, 1, 0])```\n",
        "\n",
        "Then, compute pairwise cosine similarities. In numpy:\n",
        "\n",
        "```\n",
        "from numpy import dot\n",
        "from numpy.linalg import norm\n",
        "\n",
        "cos_sim = dot(a, b)/(norm(a)*norm(b))\n",
        "```"
      ]
    },
    {
      "cell_type": "code",
      "execution_count": null,
      "metadata": {
        "id": "H8PutdHRzMyD"
      },
      "outputs": [],
      "source": []
    }
  ],
  "metadata": {
    "colab": {
      "provenance": []
    },
    "kernelspec": {
      "display_name": "Python 3",
      "name": "python3"
    },
    "language_info": {
      "name": "python"
    }
  },
  "nbformat": 4,
  "nbformat_minor": 0
}
