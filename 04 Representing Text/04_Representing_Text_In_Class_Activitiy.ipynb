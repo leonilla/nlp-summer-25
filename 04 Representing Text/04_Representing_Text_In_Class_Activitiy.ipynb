{
  "cells": [
    {
      "cell_type": "markdown",
      "metadata": {
        "id": "5rCoP8rcyOLT"
      },
      "source": [
        "**Introduction to Natural Language Processing**<br/>\n",
        "[**CC-BY-NC-SA**](https://creativecommons.org/licenses/by-nc-sa/4.0/deed.en)<br/>\n",
        "Prof. Dr. Annemarie Friedrich<br/>\n",
        "Faculty of Applied Computer Science, University of Augsburg<br/>\n",
        "Date: **SS 2025**"
      ]
    },
    {
      "cell_type": "markdown",
      "metadata": {
        "id": "kp1NBbf8yQiU"
      },
      "source": [
        "# Representing Text - Traditional Features\n",
        "\n",
        "*Step 1*: Use this notebook to compute the feature values, i.e., the feature vectors, of the three sentences given on the accompanying exercise slide. Here's some code that will help you do that."
      ]
    },
    {
      "cell_type": "code",
      "execution_count": 1,
      "metadata": {
        "id": "5OgNiNhjyJXG"
      },
      "outputs": [],
      "source": [
        "# Imports\n",
        "import spacy\n",
        "from spacy import displacy\n",
        "import numpy as np\n",
        "\n",
        "# Load the model that we will use for predictions\n",
        "nlp = spacy.load(\"en_core_web_sm\")"
      ]
    },
    {
      "cell_type": "code",
      "execution_count": 12,
      "metadata": {
        "colab": {
          "base_uri": "https://localhost:8080/",
          "height": 248
        },
        "id": "KgFX1nnrzCye",
        "outputId": "a8432f0e-c99f-46ac-fe0d-1024d41a753c"
      },
      "outputs": [
        {
          "data": {
            "text/html": [
              "<span class=\"tex2jax_ignore\"><svg xmlns=\"http://www.w3.org/2000/svg\" xmlns:xlink=\"http://www.w3.org/1999/xlink\" xml:lang=\"en\" id=\"0083038a34c34db7b7e0c78b267721e9-0\" class=\"displacy\" width=\"500\" height=\"227.0\" direction=\"ltr\" style=\"max-width: none; height: 227.0px; color: #000000; background: #ffffff; font-family: Arial; direction: ltr\">\n",
              "<text class=\"displacy-token\" fill=\"currentColor\" text-anchor=\"middle\" y=\"137.0\">\n",
              "    <tspan class=\"displacy-word\" fill=\"currentColor\" x=\"50\">My</tspan>\n",
              "    <tspan class=\"displacy-tag\" dy=\"2em\" fill=\"currentColor\" x=\"50\">PRON</tspan>\n",
              "</text>\n",
              "\n",
              "<text class=\"displacy-token\" fill=\"currentColor\" text-anchor=\"middle\" y=\"137.0\">\n",
              "    <tspan class=\"displacy-word\" fill=\"currentColor\" x=\"140\">duck</tspan>\n",
              "    <tspan class=\"displacy-tag\" dy=\"2em\" fill=\"currentColor\" x=\"140\">NOUN</tspan>\n",
              "</text>\n",
              "\n",
              "<text class=\"displacy-token\" fill=\"currentColor\" text-anchor=\"middle\" y=\"137.0\">\n",
              "    <tspan class=\"displacy-word\" fill=\"currentColor\" x=\"230\">ate</tspan>\n",
              "    <tspan class=\"displacy-tag\" dy=\"2em\" fill=\"currentColor\" x=\"230\">VERB</tspan>\n",
              "</text>\n",
              "\n",
              "<text class=\"displacy-token\" fill=\"currentColor\" text-anchor=\"middle\" y=\"137.0\">\n",
              "    <tspan class=\"displacy-word\" fill=\"currentColor\" x=\"320\">a</tspan>\n",
              "    <tspan class=\"displacy-tag\" dy=\"2em\" fill=\"currentColor\" x=\"320\">DET</tspan>\n",
              "</text>\n",
              "\n",
              "<text class=\"displacy-token\" fill=\"currentColor\" text-anchor=\"middle\" y=\"137.0\">\n",
              "    <tspan class=\"displacy-word\" fill=\"currentColor\" x=\"410\">fly.</tspan>\n",
              "    <tspan class=\"displacy-tag\" dy=\"2em\" fill=\"currentColor\" x=\"410\">NOUN</tspan>\n",
              "</text>\n",
              "\n",
              "<g class=\"displacy-arrow\">\n",
              "    <path class=\"displacy-arc\" id=\"arrow-0083038a34c34db7b7e0c78b267721e9-0-0\" stroke-width=\"2px\" d=\"M70,92.0 C70,47.0 135.0,47.0 135.0,92.0\" fill=\"none\" stroke=\"currentColor\"/>\n",
              "    <text dy=\"1.25em\" style=\"font-size: 0.8em; letter-spacing: 1px\">\n",
              "        <textPath xlink:href=\"#arrow-0083038a34c34db7b7e0c78b267721e9-0-0\" class=\"displacy-label\" startOffset=\"50%\" side=\"left\" fill=\"currentColor\" text-anchor=\"middle\">poss</textPath>\n",
              "    </text>\n",
              "    <path class=\"displacy-arrowhead\" d=\"M70,94.0 L62,82.0 78,82.0\" fill=\"currentColor\"/>\n",
              "</g>\n",
              "\n",
              "<g class=\"displacy-arrow\">\n",
              "    <path class=\"displacy-arc\" id=\"arrow-0083038a34c34db7b7e0c78b267721e9-0-1\" stroke-width=\"2px\" d=\"M160,92.0 C160,47.0 225.0,47.0 225.0,92.0\" fill=\"none\" stroke=\"currentColor\"/>\n",
              "    <text dy=\"1.25em\" style=\"font-size: 0.8em; letter-spacing: 1px\">\n",
              "        <textPath xlink:href=\"#arrow-0083038a34c34db7b7e0c78b267721e9-0-1\" class=\"displacy-label\" startOffset=\"50%\" side=\"left\" fill=\"currentColor\" text-anchor=\"middle\">nsubj</textPath>\n",
              "    </text>\n",
              "    <path class=\"displacy-arrowhead\" d=\"M160,94.0 L152,82.0 168,82.0\" fill=\"currentColor\"/>\n",
              "</g>\n",
              "\n",
              "<g class=\"displacy-arrow\">\n",
              "    <path class=\"displacy-arc\" id=\"arrow-0083038a34c34db7b7e0c78b267721e9-0-2\" stroke-width=\"2px\" d=\"M340,92.0 C340,47.0 405.0,47.0 405.0,92.0\" fill=\"none\" stroke=\"currentColor\"/>\n",
              "    <text dy=\"1.25em\" style=\"font-size: 0.8em; letter-spacing: 1px\">\n",
              "        <textPath xlink:href=\"#arrow-0083038a34c34db7b7e0c78b267721e9-0-2\" class=\"displacy-label\" startOffset=\"50%\" side=\"left\" fill=\"currentColor\" text-anchor=\"middle\">det</textPath>\n",
              "    </text>\n",
              "    <path class=\"displacy-arrowhead\" d=\"M340,94.0 L332,82.0 348,82.0\" fill=\"currentColor\"/>\n",
              "</g>\n",
              "\n",
              "<g class=\"displacy-arrow\">\n",
              "    <path class=\"displacy-arc\" id=\"arrow-0083038a34c34db7b7e0c78b267721e9-0-3\" stroke-width=\"2px\" d=\"M250,92.0 C250,2.0 410.0,2.0 410.0,92.0\" fill=\"none\" stroke=\"currentColor\"/>\n",
              "    <text dy=\"1.25em\" style=\"font-size: 0.8em; letter-spacing: 1px\">\n",
              "        <textPath xlink:href=\"#arrow-0083038a34c34db7b7e0c78b267721e9-0-3\" class=\"displacy-label\" startOffset=\"50%\" side=\"left\" fill=\"currentColor\" text-anchor=\"middle\">dobj</textPath>\n",
              "    </text>\n",
              "    <path class=\"displacy-arrowhead\" d=\"M410.0,94.0 L418.0,82.0 402.0,82.0\" fill=\"currentColor\"/>\n",
              "</g>\n",
              "</svg></span>"
            ],
            "text/plain": [
              "<IPython.core.display.HTML object>"
            ]
          },
          "metadata": {},
          "output_type": "display_data"
        }
      ],
      "source": [
        "input_sentence = \"My duck ate a fly.\"\n",
        "#input_sentence = \"He duck and closed his fly.\"\n",
        "#input_sentence = \"There was a duck on my fly.\"\n",
        "\n",
        "# Process sentence\n",
        "doc = nlp(input_sentence)\n",
        "# Visualize results.\n",
        "displacy.render(doc, style='dep', jupyter=True, options={'distance': 90})"
      ]
    },
    {
      "cell_type": "markdown",
      "metadata": {
        "id": "vuO2zzHTzOKG"
      },
      "source": [
        "*Step 2*: Write down the feature vectors as numpy vectors.\n",
        "For example:\n",
        "\n",
        "```v = np.array([0, 1, 0, 1, 0, 1, 0])```\n",
        "\n",
        "Then, compute pairwise cosine similarities. In numpy:\n",
        "\n",
        "```\n",
        "from numpy import dot\n",
        "from numpy.linalg import norm\n",
        "\n",
        "cos_sim = dot(a, b)/(norm(a)*norm(b))\n",
        "```"
      ]
    },
    {
      "cell_type": "code",
      "execution_count": 13,
      "metadata": {
        "colab": {
          "base_uri": "https://localhost:8080/"
        },
        "id": "H8PutdHRzMyD",
        "outputId": "b86271c2-11dd-4784-93bd-d99c2699f02f"
      },
      "outputs": [
        {
          "name": "stdout",
          "output_type": "stream",
          "text": [
            "CosSim of sentences 1 and 2 = 0.6546536707079772.\n",
            "Angle = 0.857071947850131.\n",
            "CosSim of sentences 2 and 3 = 0.40824829046386296.\n",
            "Angle = 1.1502619915109316.\n",
            "CosSim of sentences 1 and 3 = 0.8017837257372731.\n",
            "Angle = 0.6405223126794247.\n"
          ]
        }
      ],
      "source": [
        "import math\n",
        "from numpy import dot\n",
        "from numpy.linalg import norm\n",
        "\n",
        "#v = np.array([duck animal, duck verb, fly animal, fly verb, subj, obj, count of verbs, count of prp, My duck, On my, There was])\n",
        "#v1 = \"My duck ate a fly\"\n",
        "v1 = np.array([1, 0, 1, 0, 1, 1, 1, 1, 1, 0, 0])\n",
        "#v2 = \"He duck and closed his fly\"\n",
        "v2 = np.array([0, 1, 0, 1, 1, 1, 2, 2, 0, 0, 0])\n",
        "#v3 = \"There was a fly on my duck\"\n",
        "v3 = np.array([1, 0, 1, 0, 1, 1, 1, 0, 1, 1, 1])\n",
        "\n",
        "# similarity of sentences 1 and 2\n",
        "cos_sim = dot(v1, v2)/(norm(v1)*norm(v2))\n",
        "print(f\"CosSim of sentences 1 and 2 = {cos_sim}.\")\n",
        "print(f\"Angle = {math.acos(cos_sim)}.\")\n",
        "\n",
        "# similarity of sentences 2 and 3\n",
        "cos_sim = dot(v2, v3)/(norm(v2)*norm(v3))\n",
        "print(f\"CosSim of sentences 2 and 3 = {cos_sim}.\")\n",
        "print(f\"Angle = {math.acos(cos_sim)}.\")\n",
        "\n",
        "# similarity of sentences 1 and 3\n",
        "cos_sim = dot(v1, v3)/(norm(v1)*norm(v3))\n",
        "print(f\"CosSim of sentences 1 and 3 = {cos_sim}.\")\n",
        "print(f\"Angle = {math.acos(cos_sim)}.\")"
      ]
    }
  ],
  "metadata": {
    "colab": {
      "provenance": []
    },
    "kernelspec": {
      "display_name": "base",
      "language": "python",
      "name": "python3"
    },
    "language_info": {
      "name": "python",
      "version": "3.10.9"
    }
  },
  "nbformat": 4,
  "nbformat_minor": 0
}
