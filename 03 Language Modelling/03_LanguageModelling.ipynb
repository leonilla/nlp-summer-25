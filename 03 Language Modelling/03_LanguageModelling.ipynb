{
  "cells": [
    {
      "cell_type": "markdown",
      "metadata": {
        "id": "d2BLz5rCRDKS"
      },
      "source": [
        "## Introduction to Natural Language Processing\n",
        "[**CC-BY-NC-SA**](https://creativecommons.org/licenses/by-nc-sa/4.0/deed.en)<br/>\n",
        "Prof. Dr. Annemarie Friedrich / Fabio Mariani<br/>\n",
        "Faculty of Applied Computer Science, University of Augsburg<br/>"
      ]
    },
    {
      "cell_type": "markdown",
      "metadata": {
        "id": "dx0Edci8Am39"
      },
      "source": [
        "#  Language Modeling\n",
        "\n",
        "**Learning Goals**\n",
        "\n",
        "* In this notebook, we will explore how to train and evaluate trigram (3-gram) language models using two sets of texts with different genres of the Brown Corpus.\n",
        "* We will assess how well each model performs on a test set using *perplexity* as a metric.\n",
        "* We will analyze the results to understand how genre, model parameters, and smoothing techniques influence language models performance."
      ]
    },
    {
      "cell_type": "markdown",
      "metadata": {},
      "source": [
        "## Resources\n",
        "\n",
        "Before we build our language model, we need to import several modules and download necessary datasets:\n",
        "\n",
        "- `nltk`: The Natural Language Toolkit, a popular library for working with NLP.\n",
        "- `brown`, `gutenberg`: Two corpora provided by NLTK — the Brown Corpus contains categorized texts (e.g., fiction, news), while the Gutenberg Corpus includes classic literature.\n",
        "- `math`: Used for mathematical operations, such as calculating logarithms and exponentials during perplexity evaluation.\n",
        "\n",
        "We also use `nltk.download()` to ensure that the required corpora and tokenizers are available locally. This step downloads:\n",
        "- `'gutenberg'` – Jane Austen and other literary texts.\n",
        "- `'punkt_tab'` – Tokenizers.\n",
        "- `'brown'` – A categorized corpus of American English."
      ]
    },
    {
      "cell_type": "code",
      "execution_count": null,
      "metadata": {},
      "outputs": [],
      "source": [
        "!pip install --user -U nltk\n",
        "\n",
        "import nltk\n",
        "from nltk.lm import Laplace, StupidBackoff\n",
        "from nltk.lm.preprocessing import padded_everygram_pipeline\n",
        "from nltk.corpus import brown, gutenberg\n",
        "from nltk.util import ngrams\n",
        "from nltk import pad_sequence\n",
        "import math\n",
        "import pprint as pp\n",
        "\n",
        "nltk.download('gutenberg')\n",
        "nltk.download('punkt_tab')\n",
        "nltk.download('brown')"
      ]
    },
    {
      "cell_type": "markdown",
      "metadata": {},
      "source": [
        "## Preparing the Training and Test Data\n",
        "\n",
        "\n",
        "We prepare the data used to train and test our trigram language models.\n",
        "\n",
        "We extract sentences from the Brown Corpus, grouped by two distinct categories (genres):\n",
        "- ``fiction``: used to train our first language model.\n",
        "- ``news``: used to train our second language model.\n",
        "\n",
        "&#9997; To what extent do we expect the two language models to differ?\n",
        "\n",
        "_Your Answer:_"
      ]
    },
    {
      "cell_type": "code",
      "execution_count": null,
      "metadata": {},
      "outputs": [],
      "source": [
        "# obtain sentences from Brown corpus object\n",
        "model_fiction_sentences = brown.sents(categories='fiction')\n",
        "model_news_sentences = brown.sents(categories='news')\n",
        "\n",
        "# print the number of sentences that we use to train each language model\n",
        "print(len(model_fiction_sentences))\n",
        "print(len(model_news_sentences))"
      ]
    },
    {
      "cell_type": "markdown",
      "metadata": {},
      "source": [
        "We use 200 sentences from \"Emma\" by Jane Austen (Gutenberg Corpus) as our test data, i.e., we will check how well the language models estimated on the training corpora match the distribution of n-grams in this new (unseen) text. The better a language model captures the token distributions and sequences in the target domain (or genre), the better the language model (for this domain).\n",
        "\n",
        "&#9997; Do you expect the `fiction` or the `news` model to match this test text better?\n",
        "\n",
        "_Your answer:_"
      ]
    },
    {
      "cell_type": "code",
      "execution_count": null,
      "metadata": {},
      "outputs": [],
      "source": [
        "# We test on these sentences.\n",
        "austen_sentences = gutenberg.sents('austen-emma.txt')[700:900]"
      ]
    },
    {
      "cell_type": "markdown",
      "metadata": {},
      "source": [
        "## Training the N-gram Language Model\n",
        "\n",
        "The following function trains an N-gram language model using the **Laplace smoothing** technique.\n",
        "\n",
        "### Why Do We Need Smoothing in Language Models?\n",
        "\n",
        "When training N-gram language models, we estimate the probability of a word given its preceding context (e.g., for trigrams, `P(w3 | w1, w2)`). However, we face a major challenge:\n",
        "\n",
        "#### The Zero-Probability Problem\n",
        "\n",
        "If an N-gram from the test set **never appeared** in the training data, the model assigns it a probability of **zero**.\n",
        "\n",
        "- Even large training corpora can miss many valid n-gram combinations.\n",
        "- This leads to entire sentences getting **zero probability**, which is not desired in practice - even if we have not seen a particular combination of words, the entire sentencen may still contain some likely parts and we would like to reflect this in our score.\n",
        "- Computing perplexity would also turn complicated if our test set contains unseen sequences (which almost always happens in practice).\n",
        "\n",
        "&#9997; Check the formular in the slides - why do zero probabilities provide a problem for computing perplexity?\n",
        "\n",
        "_Your answer:_\n",
        "\n",
        "**Smoothing** adjusts the probability distribution so that **no possible sequence gets a probability of zero**, even if it was unseen during training.\n",
        "\n",
        "#### Laplace Smoothing\n",
        "\n",
        "In this exercise, we use **Laplace smoothing**:\n",
        "\n",
        "- It adds `1` to every possible N-gram count.\n",
        "- This ensures **every possible word combination has a non-zero count**.\n",
        "- It’s simple and effective for our purposes.\n",
        "\n",
        "Smoothing is crucial for building robust language models that can handle new or rare word sequences.\n"
      ]
    },
    {
      "cell_type": "code",
      "execution_count": null,
      "metadata": {},
      "outputs": [],
      "source": [
        "def train_ngram_model(corpus_sentences, n=3):\n",
        "    train_data, vocab = padded_everygram_pipeline(n, corpus_sentences)\n",
        "    model = Laplace(n)\n",
        "    model.fit(train_data, vocab)\n",
        "    return model"
      ]
    },
    {
      "cell_type": "markdown",
      "metadata": {},
      "source": [
        "We can then train the 2 models:"
      ]
    },
    {
      "cell_type": "code",
      "execution_count": null,
      "metadata": {},
      "outputs": [],
      "source": [
        "n = 3 # trigram\n",
        "\n",
        "model_fiction = train_ngram_model(model_fiction_sentences, n)\n",
        "model_news = train_ngram_model(model_news_sentences, n)"
      ]
    },
    {
      "cell_type": "markdown",
      "metadata": {},
      "source": [
        "## Applying the Language Model on New Data\n",
        "\n",
        "Once a language model is trained, we want to see how well it performs on new, unseen data. The function below takes a trained model and a list of tokenized sentences, then calculates the probability of each word based on its context using the model:\n",
        "\n",
        "1) We add ``<s>`` padding to the beginning of the sentence so that the first n-grams can be formed correctly. For trigrams ``(n=3)``, this adds two ``<s>`` tokens: ``['<s>', '<s>', 'the', ...]``.\n",
        "\n",
        "2) We split the sentence into overlapping sequences of tokens (n-grams). For trigrams: ``('<s>', '<s>', 'the'), ('<s>', 'the', 'dog'), ('the', 'dog', 'barked'), ... ``\n",
        "\n",
        "3) Separate each n-gram into context and target word. \n",
        "    - n-gram: ``('the', 'dog', 'barked')``:\n",
        "        - context (what the model see): ``('the', 'dog')``\n",
        "        - target word (what we expect the model to predict) : ``barked``\n",
        "\n",
        "4) We calculate the model probability to predict the expected word given the context.\n",
        "\n",
        "5) The function returns a list of ``(word, probability)`` for all the words in new data.\n"
      ]
    },
    {
      "cell_type": "code",
      "execution_count": null,
      "metadata": {},
      "outputs": [],
      "source": [
        "def apply_model(model, tokenized_sentences, n):\n",
        "    prob_t = []\n",
        "    for sentence in tokenized_sentences:\n",
        "        padded_tokens = pad_sequence(sentence, n=n, pad_left=True, left_pad_symbol='<s>')\n",
        "        for ngram in ngrams(padded_tokens, n):\n",
        "            context = ngram[:-1]\n",
        "            word = ngram[-1]\n",
        "            prob = model.score(word, context)\n",
        "            prob_t.append((word, prob, context))\n",
        "    return prob_t"
      ]
    },
    {
      "cell_type": "code",
      "execution_count": null,
      "metadata": {},
      "outputs": [],
      "source": [
        "model_fiction_probs = apply_model(model_fiction, austen_sentences, n)\n",
        "model_news_probs = apply_model(model_news, austen_sentences, n)\n",
        "\n",
        "# Take a look at the data structure\n",
        "pp.pprint(model_fiction_probs[:10])"
      ]
    },
    {
      "cell_type": "markdown",
      "metadata": {},
      "source": [
        "## Exercise: Calculate Perplexity\n",
        "\n",
        "Now that we’ve evaluated word probabilities using our language models, it’s time to **quantify** how surprised the models are with new data (test text) using **perplexity**.\n",
        "\n",
        "---\n",
        "\n",
        "### What is Perplexity?\n",
        "\n",
        "Perplexity measures how well a language model predicts a sequence of words. It can be interpreted as:\n",
        "\n",
        "> \"**How surprised** is the model when it sees the actual test data?\"\n",
        "\n",
        "- A **lower** perplexity score means the model is more confident and better at predicting the text.\n",
        "- A **higher** perplexity indicates more uncertainty or poor prediction.\n",
        "\n",
        "Mathematically, for a sequence of N words with probabilities \\( p_1, p_2, ..., p_N \\), perplexity is defined as:\n",
        "\n",
        "$$\n",
        "\\text{Perplexity} = \\exp \\left( -\\frac{1}{N} \\sum_{i=1}^{N} \\log p_i \\right)\n",
        "$$\n",
        "\n",
        "Where:\n",
        "- \\( pi \\) is the predicted probability of the i-th word (following a history whose length depends on the language model),\n",
        "- \\( N \\) is the total number of predicted words.\n",
        "\n",
        "\n",
        "### Your Task\n",
        "\n",
        "Complete the following function to compute perplexity based on the list of predicted probabilities.\n",
        "\n",
        "**Input**\n",
        "\n",
        "``words_probs``: A list of tuples like ``(word, probability, context)``\n",
        "\n",
        "Example: ``[('the', 0.003, ('<s>', '<s>')), ('dog', 0.02, ('<s>', 'the'))]``\n",
        "\n",
        "\n",
        "**Output**\n",
        "\n",
        "Returns a single float value: the computed perplexity of the model over the test data.\n",
        "\n",
        "\n",
        "\n",
        "The function may use Python's built-in ``math`` module:\n",
        "- `math.log(prob)` calculates the natural logarithm (ln) of a probability.\n",
        "- `math.exp(x)` computes the exponential \\( e^x \\).\n",
        "You can read more here: [math documentation](https://docs.python.org/3/library/math.html)"
      ]
    },
    {
      "cell_type": "code",
      "execution_count": null,
      "metadata": {},
      "outputs": [],
      "source": [
        "def calculate_perplexity(words_probs):\n",
        "    # your code here\n",
        "    pass"
      ]
    },
    {
      "cell_type": "code",
      "execution_count": null,
      "metadata": {},
      "outputs": [],
      "source": [
        "ppl_fiction = calculate_perplexity(model_fiction_probs)\n",
        "ppl_news = calculate_perplexity(model_news_probs)\n",
        "\n",
        "\n",
        "print(f'Perplexity for model_fiction: {ppl_fiction}')\n",
        "print(f'Perplexity for model_news: {ppl_news}')"
      ]
    },
    {
      "cell_type": "markdown",
      "metadata": {},
      "source": [
        " &#9997; What do you observe? What does this mean? Do the observation match your expectations?\n",
        "\n",
        " _ Your answer:_\n",
        "\n",
        "  &#9997; Experiment with at least two parameters, e.g., change the length of the history ($n$) or experiment with a different smoothing method, adding training data (check out how to use text from several categories of the Brown corpus, for example), etc. and briefly describe your findings. Submit the version of the notebook containing the answers and code for the original question, but keep your variants either below or comment them out."
      ]
    }
  ],
  "metadata": {
    "accelerator": "TPU",
    "colab": {
      "collapsed_sections": [
        "u0qnSFHlEVs3",
        "hLNxCFmqEba6",
        "sfo-oNwqmrv1"
      ],
      "provenance": []
    },
    "kernelspec": {
      "display_name": ".venv",
      "language": "python",
      "name": "python3"
    },
    "language_info": {
      "codemirror_mode": {
        "name": "ipython",
        "version": 3
      },
      "file_extension": ".py",
      "mimetype": "text/x-python",
      "name": "python",
      "nbconvert_exporter": "python",
      "pygments_lexer": "ipython3",
      "version": "3.12.3"
    }
  },
  "nbformat": 4,
  "nbformat_minor": 0
}
